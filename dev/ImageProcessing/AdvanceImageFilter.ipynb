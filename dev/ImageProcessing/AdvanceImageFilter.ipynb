{
 "cells": [
  {
   "cell_type": "markdown",
   "source": [
    "### Source Part1: [Youtube#1](https://www.youtube.com/watch?v=mCkfYZdrWvs&ab_channel=BleedAI)\n",
    "### Source Part1: [Youtube#2](https://www.youtube.com/watch?v=j7Tnmrc7hgE&ab_channel=BleedAI)\n",
    "### Source Part3: [Youtube#3](https://www.youtube.com/watch?v=aKnaVwzR4nw&ab_channel=BleedAI)"
   ],
   "metadata": {
    "collapsed": false
   }
  },
  {
   "cell_type": "code",
   "execution_count": 1,
   "metadata": {
    "collapsed": true
   },
   "outputs": [],
   "source": [
    "# Import libraries\n",
    "import matplotlib.pyplot as plt\n",
    "import cv2\n",
    "import numpy as np\n",
    "from scipy.interpolate import UnivariateSpline"
   ]
  },
  {
   "cell_type": "markdown",
   "source": [
    "### Apply Mouse Click Events with OpenCV\n",
    "* This is setting up the foundation to interact with the filter selection and parameter tuning with user interface\n",
    "* So not much image processing will be introduced\n",
    "\n",
    "#### `cv2.MouseEventTypes`: All of the supported mouse event by OpenCV\n",
    "* Pair those event activation methods with the corresponding callback functions using `cv2.setMouseCallback()`"
   ],
   "metadata": {
    "collapsed": false
   }
  },
  {
   "cell_type": "code",
   "execution_count": null,
   "outputs": [],
   "source": [],
   "metadata": {
    "collapsed": false,
    "pycharm": {
     "name": "#%%\n"
    }
   }
  },
  {
   "cell_type": "markdown",
   "source": [
    "### Creating Warm Filter-like Effect\n",
    "* Absorbs blue cast in images, and improves skin tones.\n",
    "* This is achieved by decreasing the pixel intensities of the blue channel and increase the intensities of the red channel of an image.\n",
    "* We will use the 'Look Up Tables'"
   ],
   "metadata": {
    "collapsed": false
   }
  },
  {
   "cell_type": "code",
   "execution_count": null,
   "outputs": [],
   "source": [],
   "metadata": {
    "collapsed": false,
    "pycharm": {
     "name": "#%%\n"
    }
   }
  }
 ],
 "metadata": {
  "kernelspec": {
   "display_name": "Python 3",
   "language": "python",
   "name": "python3"
  },
  "language_info": {
   "codemirror_mode": {
    "name": "ipython",
    "version": 2
   },
   "file_extension": ".py",
   "mimetype": "text/x-python",
   "name": "python",
   "nbconvert_exporter": "python",
   "pygments_lexer": "ipython2",
   "version": "2.7.6"
  }
 },
 "nbformat": 4,
 "nbformat_minor": 0
}