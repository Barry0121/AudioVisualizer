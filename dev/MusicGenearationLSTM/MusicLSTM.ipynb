{
 "cells": [
  {
   "cell_type": "code",
   "execution_count": 1,
   "metadata": {},
   "outputs": [],
   "source": [
    "# Import libraries \n",
    "import tensorflow as tf\n",
    "from tensorflow.keras.layers import Input, LSTM, Dense\n",
    "from tensorflow.keras.models import Model\n",
    "from tensorflow.keras.losses import SparseCategoricalCrossentropy\n",
    "from tensorflow.keras.optimizers import Adam\n",
    "\n",
    "from typing import Dict, List, Optional, Sequence, Tuple\n",
    "import collections\n",
    "import datetime\n",
    "import glob\n",
    "import numpy as np\n",
    "import pathlib\n",
    "import pandas as pd\n",
    "import pretty_midi\n",
    "\n",
    "from IPython import display\n",
    "import matplotlib.pyplot as plt\n",
    "import seaborn as sns"
   ]
  },
  {
   "cell_type": "markdown",
   "metadata": {},
   "source": [
    "# Data exploration "
   ]
  },
  {
   "cell_type": "code",
   "execution_count": 2,
   "metadata": {},
   "outputs": [],
   "source": [
    "# Creating the required variables \n",
    "seed = 42\n",
    "tf.random.set_seed(seed)\n",
    "np.random.seed(seed)\n",
    "\n",
    "# Sampling rate for audio playback \n",
    "_SAMPLING_RATE = 16000"
   ]
  },
  {
   "cell_type": "code",
   "execution_count": 3,
   "metadata": {},
   "outputs": [
    {
     "name": "stdout",
     "output_type": "stream",
     "text": [
      "Number of files:  1282\n"
     ]
    }
   ],
   "source": [
    "# Setting the path \n",
    "data_fp = pathlib.Path(\"../../asset/maestro-v2.0.0/\") # root data folder \n",
    "filenames = glob.glob(str(data_fp/\"**/*.mid*\")) # find all the midi files in the root folder\n",
    "print(\"Number of files: \", len(filenames))"
   ]
  },
  {
   "cell_type": "code",
   "execution_count": 4,
   "metadata": {},
   "outputs": [
    {
     "name": "stdout",
     "output_type": "stream",
     "text": [
      "../../asset/maestro-v2.0.0/2013/ORIG-MIDI_03_7_6_13_Group__MID--AUDIO_09_R1_2013_wav--2.midi\n",
      "Number of instruments:  1\n",
      "Instrument name:  Acoustic Grand Piano\n"
     ]
    }
   ],
   "source": [
    "# Test with a sample file \n",
    "sample_file = filenames[1]\n",
    "print(sample_file)\n",
    "\n",
    "pm = pretty_midi.PrettyMIDI(sample_file)\n",
    "\n",
    "print(\"Number of instruments: \", len(pm.instruments))\n",
    "instrument = pm.instruments[0]\n",
    "instrument_name = pretty_midi.program_to_instrument_name(instrument.program)\n",
    "print(\"Instrument name: \", instrument_name)"
   ]
  },
  {
   "cell_type": "code",
   "execution_count": 5,
   "metadata": {},
   "outputs": [
    {
     "name": "stdout",
     "output_type": "stream",
     "text": [
      "0: pitch=75, note_name=D#5, duration=0.0677\n",
      "1: pitch=63, note_name=D#4, duration=0.0781\n",
      "2: pitch=75, note_name=D#5, duration=0.0443\n",
      "3: pitch=63, note_name=D#4, duration=0.0469\n",
      "4: pitch=75, note_name=D#5, duration=0.0417\n",
      "5: pitch=63, note_name=D#4, duration=0.0469\n",
      "6: pitch=87, note_name=D#6, duration=0.0443\n",
      "7: pitch=99, note_name=D#7, duration=0.0690\n",
      "8: pitch=87, note_name=D#6, duration=0.0378\n",
      "9: pitch=99, note_name=D#7, duration=0.0742\n"
     ]
    }
   ],
   "source": [
    "# Extract the notes \n",
    "for index, note in enumerate(instrument.notes[:10]): # look at the first 10 notes \n",
    "    note_name = pretty_midi.note_number_to_name(note.pitch)\n",
    "    duration = note.end - note.start\n",
    "    print(f\"{index}: pitch={note.pitch}, note_name={note_name}, duration={duration:.4f}\")"
   ]
  },
  {
   "cell_type": "markdown",
   "metadata": {},
   "source": [
    "* `pitch`: the perceptual quality of sound, determined by recognized by the MIDI note numbers. \n",
    "* `step variable`: represents the time elapsed from the previous note or start of the track. \n",
    "* `duration`: difference between the start time and end time of a note. \n",
    "##### These three parameters are what we will extract to construct the LSTM model network. "
   ]
  },
  {
   "cell_type": "code",
   "execution_count": 6,
   "metadata": {},
   "outputs": [],
   "source": [
    "# Extracting the notes from the sample MIDI file \n",
    "\n",
    "def midi_to_notes(midi_file: str) -> pd.DataFrame: \n",
    "    \"\"\"Extract pitch, step variable, and duration from a given midi_file\"\"\"\n",
    "    pm = pretty_midi.PrettyMIDI(midi_file)\n",
    "    instrument = pm.instruments[0]\n",
    "    notes = collections.defaultdict(list)\n",
    "\n",
    "    # Sort the notes by start time \n",
    "    sorted_notes = sorted(instrument.notes, key=lambda note: note.start) \n",
    "    prev_start = sorted_notes[0].start\n",
    "\n",
    "    for note in sorted_notes: \n",
    "        start = note.start\n",
    "        end = note.end \n",
    "        notes['pitch'].append(note.pitch)\n",
    "        notes['start'].append(start)\n",
    "        notes['end'].append(end)\n",
    "        notes['step'].append(start - prev_start)\n",
    "        notes['duration'].append(end - start)\n",
    "        prev_start = start\n",
    "\n",
    "    return pd.DataFrame({name: np.array(value) for name, value in notes.items()}) # cast list to array in defaultlist "
   ]
  },
  {
   "cell_type": "code",
   "execution_count": 7,
   "metadata": {},
   "outputs": [
    {
     "data": {
      "text/html": [
       "<div>\n",
       "<style scoped>\n",
       "    .dataframe tbody tr th:only-of-type {\n",
       "        vertical-align: middle;\n",
       "    }\n",
       "\n",
       "    .dataframe tbody tr th {\n",
       "        vertical-align: top;\n",
       "    }\n",
       "\n",
       "    .dataframe thead th {\n",
       "        text-align: right;\n",
       "    }\n",
       "</style>\n",
       "<table border=\"1\" class=\"dataframe\">\n",
       "  <thead>\n",
       "    <tr style=\"text-align: right;\">\n",
       "      <th></th>\n",
       "      <th>pitch</th>\n",
       "      <th>start</th>\n",
       "      <th>end</th>\n",
       "      <th>step</th>\n",
       "      <th>duration</th>\n",
       "    </tr>\n",
       "  </thead>\n",
       "  <tbody>\n",
       "    <tr>\n",
       "      <th>0</th>\n",
       "      <td>63</td>\n",
       "      <td>1.001302</td>\n",
       "      <td>1.079427</td>\n",
       "      <td>0.000000</td>\n",
       "      <td>0.078125</td>\n",
       "    </tr>\n",
       "    <tr>\n",
       "      <th>1</th>\n",
       "      <td>75</td>\n",
       "      <td>1.006510</td>\n",
       "      <td>1.074219</td>\n",
       "      <td>0.005208</td>\n",
       "      <td>0.067708</td>\n",
       "    </tr>\n",
       "    <tr>\n",
       "      <th>2</th>\n",
       "      <td>75</td>\n",
       "      <td>1.305990</td>\n",
       "      <td>1.350260</td>\n",
       "      <td>0.299479</td>\n",
       "      <td>0.044271</td>\n",
       "    </tr>\n",
       "    <tr>\n",
       "      <th>3</th>\n",
       "      <td>63</td>\n",
       "      <td>1.305990</td>\n",
       "      <td>1.352865</td>\n",
       "      <td>0.000000</td>\n",
       "      <td>0.046875</td>\n",
       "    </tr>\n",
       "    <tr>\n",
       "      <th>4</th>\n",
       "      <td>75</td>\n",
       "      <td>1.630208</td>\n",
       "      <td>1.671875</td>\n",
       "      <td>0.324219</td>\n",
       "      <td>0.041667</td>\n",
       "    </tr>\n",
       "  </tbody>\n",
       "</table>\n",
       "</div>"
      ],
      "text/plain": [
       "   pitch     start       end      step  duration\n",
       "0     63  1.001302  1.079427  0.000000  0.078125\n",
       "1     75  1.006510  1.074219  0.005208  0.067708\n",
       "2     75  1.305990  1.350260  0.299479  0.044271\n",
       "3     63  1.305990  1.352865  0.000000  0.046875\n",
       "4     75  1.630208  1.671875  0.324219  0.041667"
      ]
     },
     "execution_count": 7,
     "metadata": {},
     "output_type": "execute_result"
    }
   ],
   "source": [
    "raw_notes = midi_to_notes(sample_file)\n",
    "raw_notes.head()"
   ]
  },
  {
   "cell_type": "code",
   "execution_count": 8,
   "metadata": {},
   "outputs": [
    {
     "name": "stdout",
     "output_type": "stream",
     "text": [
      "['D#4' 'D#5' 'D#5' 'D#4' 'D#5' 'D#4' 'D#7' 'D#6' 'D#7' 'D#6']\n"
     ]
    }
   ],
   "source": [
    "# Converting to note names by considering the respective pitch values \n",
    "get_note_names = np.vectorize(pretty_midi.note_number_to_name)\n",
    "sample_note_names = get_note_names(raw_notes['pitch'])\n",
    "print(sample_note_names[:10])"
   ]
  },
  {
   "cell_type": "code",
   "execution_count": 9,
   "metadata": {},
   "outputs": [],
   "source": [
    "# Visualizing the parameters of the musical notes of the piano \n",
    "def plot_piano_roll(notes: pd.DataFrame, count: Optional[int] = None): \n",
    "    if count: \n",
    "        title=f\"First {count} notes\"\n",
    "    else: \n",
    "        title=f\"Whole track\"\n",
    "        count = len(notes['pitch'])\n",
    "\n",
    "    plt.figure(figsize=(20, 4))\n",
    "    plot_pitch = np.stack([notes['pitch'], notes['pitch']], axis=0)\n",
    "    plot_start_stop = np.stack([notes[\"start\"], notes['end']], axis=0)\n",
    "\n",
    "    plt.plot(plot_start_stop[:, :count], plot_pitch[:, :count], color='b', marker='.')\n",
    "    plt.xlabel(\"Time [s]\")\n",
    "    plt.ylabel(\"Pitch\")\n",
    "    _ = plt.title(title)"
   ]
  },
  {
   "cell_type": "code",
   "execution_count": 10,
   "metadata": {},
   "outputs": [
    {
     "data": {
      "image/png": "[encoded data removed]",
      "text/plain": [
       "<Figure size 1440x288 with 1 Axes>"
      ]
     },
     "metadata": {},
     "output_type": "display_data"
    }
   ],
   "source": [
    "plot_piano_roll(raw_notes, 100)"
   ]
  },
  {
   "cell_type": "code",
   "execution_count": 11,
   "metadata": {},
   "outputs": [
    {
     "data": {
      "image/png": "[encoded data removed]",
      "text/plain": [
       "<Figure size 1440x288 with 1 Axes>"
      ]
     },
     "metadata": {},
     "output_type": "display_data"
    }
   ],
   "source": [
    "plot_piano_roll(raw_notes)"
   ]
  },
  {
   "cell_type": "markdown",
   "metadata": {},
   "source": [
    "# Creating the training data"
   ]
  },
  {
   "cell_type": "code",
   "execution_count": 12,
   "metadata": {},
   "outputs": [],
   "source": [
    "# MIDI data creation function \n",
    "def notes_to_midi(notes: pd.DataFrame, out_file: str, instrument_name: str, velocity: int = 100) -> pretty_midi.PrettyMIDI:\n",
    "    \"\"\"Generate MIDI files from musical notes; this is used to create dataset\"\"\"\n",
    "    pm = pretty_midi.PrettyMIDI()\n",
    "    instrument = pretty_midi.Instrument(\n",
    "        program=pretty_midi.instrument_name_to_program(instrument_name)\n",
    "    )\n",
    "\n",
    "    # (Re)construct the midi dataset\n",
    "    prev_start = 0 \n",
    "    for index, note in notes.iterrows(): \n",
    "        start = float(prev_start + note['step'])\n",
    "        end = float(start + note['duration'])\n",
    "\n",
    "        note = pretty_midi.Note(velocity=velocity, pitch=int(note['pitch']), start=start, end=end)\n",
    "\n",
    "        instrument.notes.append(note)\n",
    "        prev_start = start\n",
    "\n",
    "    pm.instruments.append(instrument)\n",
    "    pm.write(out_file)\n",
    "    return pm "
   ]
  },
  {
   "cell_type": "code",
   "execution_count": 13,
   "metadata": {},
   "outputs": [],
   "source": [
    "example_file = './midi_data/example.midi'\n",
    "example_pm = notes_to_midi(raw_notes, out_file=example_file, instrument_name=instrument_name)"
   ]
  },
  {
   "cell_type": "code",
   "execution_count": 14,
   "metadata": {},
   "outputs": [
    {
     "name": "stdout",
     "output_type": "stream",
     "text": [
      "Number of notes parsed:  15435\n",
      "Training notes' shape:  (15435, 3)\n",
      "Metal device set to: Apple M1 Pro\n",
      "\n",
      "systemMemory: 16.00 GB\n",
      "maxCacheSize: 5.33 GB\n",
      "\n"
     ]
    },
    {
     "name": "stderr",
     "output_type": "stream",
     "text": [
      "2022-08-02 22:52:20.986890: I tensorflow/core/common_runtime/pluggable_device/pluggable_device_factory.cc:305] Could not identify NUMA node of platform GPU ID 0, defaulting to 0. Your kernel may not have been built with NUMA support.\n",
      "2022-08-02 22:52:20.987519: I tensorflow/core/common_runtime/pluggable_device/pluggable_device_factory.cc:271] Created TensorFlow device (/job:localhost/replica:0/task:0/device:GPU:0 with 0 MB memory) -> physical PluggableDevice (device: 0, name: METAL, pci bus id: <undefined>)\n"
     ]
    },
    {
     "data": {
      "text/plain": [
       "TensorSpec(shape=(3,), dtype=tf.float64, name=None)"
      ]
     },
     "execution_count": 14,
     "metadata": {},
     "output_type": "execute_result"
    }
   ],
   "source": [
    "# Extract all the notes from the MIDI files and create a dataset \n",
    "num_files = 5 # start small, and increase incrementally \n",
    "all_notes = []\n",
    "\n",
    "# Concat all notes from selected files \n",
    "for f in filenames[:num_files]: \n",
    "    notes = midi_to_notes(f) \n",
    "    all_notes.append(notes)\n",
    "all_notes = pd.concat(all_notes)\n",
    "n_notes = len(all_notes)\n",
    "print(\"Number of notes parsed: \", n_notes)\n",
    "\n",
    "key_order = ['pitch', 'step', 'duration']\n",
    "train_notes = np.stack([all_notes[key] for key in key_order], axis=1) # Re-store all three parameters as array \n",
    "print(\"Training notes' shape: \", train_notes.shape)\n",
    "\n",
    "notes_ds = tf.data.Dataset.from_tensor_slices(train_notes) # Convert numpy arrays to tensorflow tensor datasets; this is faster \n",
    "notes_ds.element_spec"
   ]
  },
  {
   "cell_type": "markdown",
   "metadata": {},
   "source": [
    "From the PaperSpace Article \n",
    "> LSTMs, as discussed previously, work best with a series of information as they are able to effectively remember the previous data elements. Hence, the dataset we create will have sequence inputs and outputs. If the size of the sequence is (100, 1), that means that there will be a total of 100 input notes that will be passed to receive a final output of 1. Therefore, the dataset we create will have a similar pattern, where the data will have notes as the input features and an output note as a label following these input sequences."
   ]
  },
  {
   "cell_type": "code",
   "execution_count": 15,
   "metadata": {},
   "outputs": [
    {
     "name": "stderr",
     "output_type": "stream",
     "text": [
      "2022-08-02 22:57:46.392975: I tensorflow/core/common_runtime/pluggable_device/pluggable_device_factory.cc:305] Could not identify NUMA node of platform GPU ID 0, defaulting to 0. Your kernel may not have been built with NUMA support.\n",
      "2022-08-02 22:57:46.393043: I tensorflow/core/common_runtime/pluggable_device/pluggable_device_factory.cc:271] Created TensorFlow device (/device:GPU:0 with 0 MB memory) -> physical PluggableDevice (device: 0, name: METAL, pci bus id: <undefined>)\n"
     ]
    },
    {
     "data": {
      "text/plain": [
       "['/device:GPU:0']"
      ]
     },
     "execution_count": 15,
     "metadata": {},
     "output_type": "execute_result"
    }
   ],
   "source": [
    "# Check GPU availability \n",
    "from tensorflow.python.client import device_lib\n",
    "\n",
    "def get_available_gpus():\n",
    "    local_device_protos = device_lib.list_local_devices()\n",
    "    return [x.name for x in local_device_protos if x.device_type == 'GPU']\n",
    "\n",
    "get_available_gpus()"
   ]
  },
  {
   "cell_type": "code",
   "execution_count": 19,
   "metadata": {},
   "outputs": [],
   "source": [
    "def create_sequences(dataset: tf.data.Dataset, seq_length: int, vocab_size = 128) -> tf.data.Dataset: \n",
    "    \"\"\"Create sequence inputs and outputs based on the created notes dataset. Return TF Dataset of sequence and label example\"\"\"\n",
    "    seq_length = seq_length+1 # pad for one extra spot for the label \n",
    "    \n",
    "    windows = dataset.window(seq_length, shift=1, stride=1, drop_remainder=True) # each window is a dataset with a subset of elements \n",
    "\n",
    "    # flat_map flattens the window dataset (\"dataset of datasets\") into a dataset of tensors \n",
    "    flatten = lambda x: x.batch(seq_length, drop_remainder=True)\n",
    "    sequences = windows.flat_map(flatten)\n",
    "\n",
    "    # Normalize note pitch \n",
    "    def scale_pitch(x):\n",
    "        x = x / [vocab_size, 1.0, 1.0]\n",
    "        return x \n",
    "\n",
    "    # Split the labels \n",
    "    def split_labels(sequences): \n",
    "        inputs = sequences[:-1]\n",
    "        labels_dense = sequences[-1]\n",
    "        labels = {key:labels_dense[i] for i, key in enumerate(key_order)}\n",
    "        return scale_pitch(inputs), labels\n",
    "\n",
    "    return sequences.map(split_labels, num_parallel_calls=tf.data.AUTOTUNE)"
   ]
  },
  {
   "cell_type": "code",
   "execution_count": 20,
   "metadata": {},
   "outputs": [],
   "source": [
    "seq_length, vocab_size = 25, 128 # seq_legnth is a hyperparameter that can be tuned later \n",
    "seq_ds = create_sequences(notes_ds, seq_length, vocab_size)"
   ]
  },
  {
   "cell_type": "code",
   "execution_count": 26,
   "metadata": {},
   "outputs": [
    {
     "data": {
      "text/plain": [
       "(<tf.Tensor: shape=(25, 3), dtype=float64, numpy=\n",
       " array([[0.6015625 , 0.        , 0.09244792],\n",
       "        [0.3828125 , 0.00390625, 0.40234375],\n",
       "        [0.5703125 , 0.109375  , 0.06510417],\n",
       "        [0.53125   , 0.09895833, 0.06119792],\n",
       "        [0.5703125 , 0.10807292, 0.05989583],\n",
       "        [0.4765625 , 0.06640625, 0.05338542],\n",
       "        [0.6015625 , 0.01302083, 0.0703125 ],\n",
       "        [0.5703125 , 0.11979167, 0.07682292],\n",
       "        [0.3984375 , 0.109375  , 0.43619792],\n",
       "        [0.609375  , 0.00130208, 0.09505208],\n",
       "        [0.5703125 , 0.12109375, 0.09244792],\n",
       "        [0.609375  , 0.10807292, 0.0859375 ],\n",
       "        [0.5703125 , 0.09375   , 0.08854167],\n",
       "        [0.4765625 , 0.09635417, 0.05208333],\n",
       "        [0.609375  , 0.01302083, 0.09635417],\n",
       "        [0.5703125 , 0.11197917, 0.08854167],\n",
       "        [0.4140625 , 0.09765625, 0.46614583],\n",
       "        [0.625     , 0.00651042, 0.09635417],\n",
       "        [0.5703125 , 0.11328125, 0.08203125],\n",
       "        [0.625     , 0.10677083, 0.0859375 ],\n",
       "        [0.5703125 , 0.09895833, 0.06901042],\n",
       "        [0.625     , 0.10286458, 0.10026042],\n",
       "        [0.4765625 , 0.01041667, 0.0546875 ],\n",
       "        [0.5703125 , 0.10677083, 0.10286458],\n",
       "        [0.640625  , 0.12890625, 0.09635417]])>,\n",
       " {'pitch': <tf.Tensor: shape=(), dtype=float64, numpy=54.0>,\n",
       "  'step': <tf.Tensor: shape=(), dtype=float64, numpy=0.005208333333333037>,\n",
       "  'duration': <tf.Tensor: shape=(), dtype=float64, numpy=0.46875>})"
      ]
     },
     "execution_count": 26,
     "metadata": {},
     "output_type": "execute_result"
    }
   ],
   "source": [
    "# take a look at the first element here\n",
    "iter(seq_ds).next()"
   ]
  },
  {
   "cell_type": "code",
   "execution_count": 27,
   "metadata": {},
   "outputs": [],
   "source": [
    "# Generate training dataset\n",
    "batch_size = 64 \n",
    "buffer_size = n_notes - seq_length # this is the number of items in the dataset\n",
    "train_ds = (seq_ds\n",
    "            .shuffle(buffer_size)\n",
    "            .batch(batch_size, drop_remainder=True)\n",
    "            .cache()\n",
    "            .prefetch(tf.data.experimental.AUTOTUNE))"
   ]
  },
  {
   "cell_type": "code",
   "execution_count": 29,
   "metadata": {},
   "outputs": [
    {
     "name": "stderr",
     "output_type": "stream",
     "text": [
      "2022-08-02 23:10:36.571457: W tensorflow/core/kernels/data/cache_dataset_ops.cc:856] The calling iterator did not fully read the dataset being cached. In order to avoid unexpected truncation of the dataset, the partially cached contents of the dataset  will be discarded. This can happen if you have an input pipeline similar to `dataset.cache().take(k).repeat()`. You should use `dataset.take(k).cache().repeat()` instead.\n"
     ]
    },
    {
     "data": {
      "text/plain": [
       "(<tf.Tensor: shape=(64, 25, 3), dtype=float64, numpy=\n",
       " array([[[5.70312500e-01, 5.20833333e-03, 1.70572917e-01],\n",
       "         [5.85937500e-01, 0.00000000e+00, 5.24739583e-01],\n",
       "         [5.46875000e-01, 1.17187500e-02, 8.98437500e-02],\n",
       "         ...,\n",
       "         [4.53125000e-01, 3.90625000e-03, 3.12500000e-02],\n",
       "         [6.01562500e-01, 1.27604167e-01, 1.11979167e-01],\n",
       "         [5.78125000e-01, 1.28906250e-01, 1.30208333e-01]],\n",
       " \n",
       "        [[5.07812500e-01, 1.10677083e-01, 1.60156250e-01],\n",
       "         [3.82812500e-01, 3.12500000e-02, 5.07812500e-02],\n",
       "         [3.98437500e-01, 1.36718750e-01, 3.90625000e-02],\n",
       "         ...,\n",
       "         [3.43750000e-01, 1.22395833e-01, 1.66666667e-01],\n",
       "         [5.07812500e-01, 1.86197917e-01, 1.14583333e-01],\n",
       "         [3.82812500e-01, 3.25520833e-02, 1.09375000e-01]],\n",
       " \n",
       "        [[4.37500000e-01, 1.13281250e-01, 1.45833333e-01],\n",
       "         [4.60937500e-01, 3.90625000e-03, 1.61458333e-01],\n",
       "         [5.85937500e-01, 3.25520833e-02, 3.77604167e-02],\n",
       "         ...,\n",
       "         [4.29687500e-01, 1.04166667e-02, 2.81250000e-01],\n",
       "         [6.79687500e-01, 1.21093750e-01, 4.94791667e-02],\n",
       "         [7.73437500e-01, 1.61458333e-01, 3.90625000e-02]],\n",
       " \n",
       "        ...,\n",
       " \n",
       "        [[6.17187500e-01, 8.07291667e-02, 2.47395833e-02],\n",
       "         [6.01562500e-01, 4.42708333e-02, 4.03645833e-02],\n",
       "         [6.17187500e-01, 5.59895833e-02, 7.94270833e-02],\n",
       "         ...,\n",
       "         [6.01562500e-01, 2.47395833e-01, 8.72395833e-02],\n",
       "         [5.23437500e-01, 1.08072917e-01, 3.32031250e-01],\n",
       "         [5.46875000e-01, 1.17187500e-02, 3.04687500e-01]],\n",
       " \n",
       "        [[3.98437500e-01, 9.37500000e-02, 3.90625000e-02],\n",
       "         [4.29687500e-01, 1.02864583e-01, 8.85416667e-02],\n",
       "         [4.53125000e-01, 7.42187500e-02, 6.11979167e-02],\n",
       "         ...,\n",
       "         [5.85937500e-01, 1.57421875e+00, 3.35937500e-01],\n",
       "         [5.62500000e-01, 5.20833333e-03, 3.15104167e-01],\n",
       "         [4.37500000e-01, 1.15885417e-01, 6.64062500e-02]],\n",
       " \n",
       "        [[3.04687500e-01, 3.90625000e-03, 7.77343750e-01],\n",
       "         [2.57812500e-01, 1.30208333e-03, 7.18750000e-01],\n",
       "         [6.09375000e-01, 1.11979167e-01, 6.77083333e-02],\n",
       "         ...,\n",
       "         [4.29687500e-01, 1.56250000e-02, 3.64583333e-02],\n",
       "         [3.98437500e-01, 2.60416667e-03, 3.25520833e-02],\n",
       "         [3.59375000e-01, 5.20833333e-03, 4.03645833e-02]]])>,\n",
       " {'pitch': <tf.Tensor: shape=(64,), dtype=float64, numpy=\n",
       "  array([63., 63., 51., 54., 66., 82., 85., 83., 74., 56., 79., 70., 82.,\n",
       "         60., 62., 58., 56., 66., 81., 82., 39., 86., 68., 77., 46., 68.,\n",
       "         70., 75., 63., 63., 64., 46., 63., 56., 34., 92., 79., 70., 69.,\n",
       "         82., 60., 87., 63., 51., 82., 77., 79., 82., 80., 52., 56., 58.,\n",
       "         53., 75., 63., 53., 71., 67., 75., 51., 99., 75., 58., 77.])>,\n",
       "  'step': <tf.Tensor: shape=(64,), dtype=float64, numpy=\n",
       "  array([0.14583333, 0.10026042, 0.0078125 , 0.1484375 , 0.00260417,\n",
       "         0.09895833, 0.12239583, 0.13411458, 0.13541667, 0.15755208,\n",
       "         0.13411458, 0.08203125, 0.0078125 , 0.046875  , 0.02604167,\n",
       "         0.0078125 , 0.13151042, 0.13671875, 0.10026042, 0.00651042,\n",
       "         0.00390625, 0.00260417, 0.11588542, 0.01302083, 0.19661458,\n",
       "         0.14192708, 0.23958333, 0.140625  , 0.01041667, 0.00520833,\n",
       "         0.00130208, 0.12239583, 0.00520833, 0.11067708, 0.29947917,\n",
       "         0.07682292, 0.12630208, 0.0234375 , 0.10286458, 0.09114583,\n",
       "         0.01432292, 0.1484375 , 0.08333333, 0.        , 0.11458333,\n",
       "         0.00260417, 0.00130208, 0.14583333, 0.00260417, 0.12369792,\n",
       "         0.11458333, 0.00390625, 0.1328125 , 0.03255208, 0.01432292,\n",
       "         0.00911458, 0.00911458, 0.        , 0.171875  , 0.01171875,\n",
       "         0.07942708, 0.00390625, 0.08072917, 0.03645833])>,\n",
       "  'duration': <tf.Tensor: shape=(64,), dtype=float64, numpy=\n",
       "  array([0.13932292, 0.12630208, 0.05078125, 0.13802083, 0.109375  ,\n",
       "         0.03515625, 0.03645833, 0.07161458, 0.14713542, 0.11848958,\n",
       "         0.11458333, 0.06770833, 0.04557292, 0.03255208, 0.04296875,\n",
       "         0.03385417, 0.1328125 , 0.12239583, 0.09765625, 0.09635417,\n",
       "         0.49479167, 0.05598958, 0.03385417, 0.75911458, 3.99348958,\n",
       "         0.16015625, 0.02864583, 0.85546875, 0.0390625 , 0.03255208,\n",
       "         0.05989583, 0.05208333, 0.14322917, 0.10026042, 0.62760417,\n",
       "         0.03255208, 0.02864583, 0.3046875 , 0.03125   , 0.109375  ,\n",
       "         0.14322917, 0.05078125, 0.02994792, 0.14713542, 0.11588542,\n",
       "         0.03125   , 1.41145833, 0.04166667, 0.15494792, 0.10026042,\n",
       "         0.20182292, 0.03515625, 0.08723958, 0.03776042, 0.15364583,\n",
       "         0.22786458, 0.02213542, 0.03776042, 0.11067708, 0.95703125,\n",
       "         0.05598958, 0.33333333, 0.0625    , 0.09635417])>})"
      ]
     },
     "execution_count": 29,
     "metadata": {},
     "output_type": "execute_result"
    }
   ],
   "source": [
    "iter(train_ds).next()"
   ]
  },
  {
   "cell_type": "markdown",
   "metadata": {},
   "source": [
    "## Developing a Model"
   ]
  },
  {
   "cell_type": "code",
   "execution_count": 30,
   "metadata": {},
   "outputs": [],
   "source": [
    "\"\"\"Custom Loss Function: utilize step and duration parameters\"\"\"\n",
    "# step and duraction are alwasy positive, and this loss function encourages that \n",
    "def mse_with_positive_pressure(y_true: tf.Tensor, y_pred: tf.Tensor): \n",
    "    mse = (y_true - y_pred) ** 2\n",
    "    positive_pressure = 10 * tf.maximum(-y_pred, 0.0) # 0 if y_pred is positive, <0 if y_pred is negative; presure the value to be positive\n",
    "    return tf.reduce_mean(mse + positive_pressure)"
   ]
  },
  {
   "cell_type": "code",
   "execution_count": 32,
   "metadata": {},
   "outputs": [
    {
     "name": "stdout",
     "output_type": "stream",
     "text": [
      "Model: \"model_1\"\n",
      "__________________________________________________________________________________________________\n",
      " Layer (type)                   Output Shape         Param #     Connected to                     \n",
      "==================================================================================================\n",
      " input_2 (InputLayer)           [(None, 25, 3)]      0           []                               \n",
      "                                                                                                  \n",
      " lstm_1 (LSTM)                  (None, 128)          67584       ['input_2[0][0]']                \n",
      "                                                                                                  \n",
      " duration (Dense)               (None, 1)            129         ['lstm_1[0][0]']                 \n",
      "                                                                                                  \n",
      " pitch (Dense)                  (None, 128)          16512       ['lstm_1[0][0]']                 \n",
      "                                                                                                  \n",
      " step (Dense)                   (None, 1)            129         ['lstm_1[0][0]']                 \n",
      "                                                                                                  \n",
      "==================================================================================================\n",
      "Total params: 84,354\n",
      "Trainable params: 84,354\n",
      "Non-trainable params: 0\n",
      "__________________________________________________________________________________________________\n"
     ]
    }
   ],
   "source": [
    "# Custom Model with LSTM \n",
    "input_shape = (seq_length, 3)\n",
    "learning_rate = 0.005 \n",
    "\n",
    "# define input/output shape, and data flow \n",
    "inputs = Input(input_shape)\n",
    "x = LSTM(128)(inputs)\n",
    "outputs = {'pitch': Dense(128, name='pitch')(x),\n",
    "            'step': Dense(1, name='step')(x),\n",
    "            'duration': Dense(1, name='duration')(x),\n",
    "            }\n",
    "\n",
    "# construct the model with loss, optimizer \n",
    "model = Model(inputs, outputs)\n",
    "loss = {'pitch': SparseCategoricalCrossentropy(from_logits=True),\n",
    "        'step': mse_with_positive_pressure,  # apply our custom loss function \n",
    "        'duration': mse_with_positive_pressure, \n",
    "        }\n",
    "optimizer = Adam(learning_rate=learning_rate)\n",
    "\n",
    "# compile model\n",
    "model.compile(loss=loss, optimizer=optimizer)\n",
    "model.summary()"
   ]
  },
  {
   "cell_type": "code",
   "execution_count": 33,
   "metadata": {},
   "outputs": [],
   "source": [
    "# Define callbacks - checkpoints + early stopping \n",
    "\n",
    "callbacks = [tf.keras.callbacks.ModelCheckpoint(filepath='./training_checkpoints/ckpt_{epoch}', save_weights_only=True), # save training results and weights \n",
    "             tf.keras.callbacks.EarlyStopping(monitor='loss', patience=5,  # early stopping when validation loss increase for 5 times\n",
    "                                              verbose=1, restore_best_weights=True),] "
   ]
  },
  {
   "cell_type": "code",
   "execution_count": 34,
   "metadata": {},
   "outputs": [
    {
     "name": "stdout",
     "output_type": "stream",
     "text": [
      "Epoch 1/50\n"
     ]
    },
    {
     "name": "stderr",
     "output_type": "stream",
     "text": [
      "2022-08-02 23:27:49.220812: I tensorflow/core/grappler/optimizers/custom_graph_optimizer_registry.cc:113] Plugin optimizer for device_type GPU is enabled.\n",
      "2022-08-02 23:27:50.204399: I tensorflow/core/grappler/optimizers/custom_graph_optimizer_registry.cc:113] Plugin optimizer for device_type GPU is enabled.\n",
      "2022-08-02 23:27:53.318907: I tensorflow/core/grappler/optimizers/custom_graph_optimizer_registry.cc:113] Plugin optimizer for device_type GPU is enabled.\n"
     ]
    },
    {
     "name": "stdout",
     "output_type": "stream",
     "text": [
      "240/240 [==============================] - 10s 18ms/step - loss: 0.2793 - duration_loss: 0.0518 - pitch_loss: 4.1154 - step_loss: 0.0217\n",
      "Epoch 2/50\n",
      "240/240 [==============================] - 4s 17ms/step - loss: 0.2514 - duration_loss: 0.0416 - pitch_loss: 3.8684 - step_loss: 0.0164\n",
      "Epoch 3/50\n",
      "240/240 [==============================] - 4s 17ms/step - loss: 0.2448 - duration_loss: 0.0414 - pitch_loss: 3.7425 - step_loss: 0.0163\n",
      "Epoch 4/50\n",
      "240/240 [==============================] - 4s 17ms/step - loss: 0.2400 - duration_loss: 0.0408 - pitch_loss: 3.6583 - step_loss: 0.0162\n",
      "Epoch 5/50\n",
      "240/240 [==============================] - 4s 16ms/step - loss: 0.2374 - duration_loss: 0.0403 - pitch_loss: 3.6205 - step_loss: 0.0161\n",
      "Epoch 6/50\n",
      "240/240 [==============================] - 4s 17ms/step - loss: 0.2363 - duration_loss: 0.0401 - pitch_loss: 3.6034 - step_loss: 0.0160\n",
      "Epoch 7/50\n",
      "240/240 [==============================] - 4s 16ms/step - loss: 0.2346 - duration_loss: 0.0396 - pitch_loss: 3.5829 - step_loss: 0.0159\n",
      "Epoch 8/50\n",
      "240/240 [==============================] - 4s 17ms/step - loss: 0.2339 - duration_loss: 0.0391 - pitch_loss: 3.5806 - step_loss: 0.0158\n",
      "Epoch 9/50\n",
      "240/240 [==============================] - 4s 16ms/step - loss: 0.2327 - duration_loss: 0.0387 - pitch_loss: 3.5652 - step_loss: 0.0157\n",
      "Epoch 10/50\n",
      "240/240 [==============================] - 4s 16ms/step - loss: 0.2319 - duration_loss: 0.0382 - pitch_loss: 3.5604 - step_loss: 0.0157\n",
      "Epoch 11/50\n",
      "240/240 [==============================] - 4s 16ms/step - loss: 0.2317 - duration_loss: 0.0380 - pitch_loss: 3.5585 - step_loss: 0.0158\n",
      "Epoch 12/50\n",
      "240/240 [==============================] - 4s 16ms/step - loss: 0.2322 - duration_loss: 0.0381 - pitch_loss: 3.5545 - step_loss: 0.0164\n",
      "Epoch 13/50\n",
      "240/240 [==============================] - 4s 16ms/step - loss: 0.2318 - duration_loss: 0.0385 - pitch_loss: 3.5618 - step_loss: 0.0152\n",
      "Epoch 14/50\n",
      "240/240 [==============================] - 4s 17ms/step - loss: 0.2294 - duration_loss: 0.0374 - pitch_loss: 3.5383 - step_loss: 0.0151\n",
      "Epoch 15/50\n",
      "240/240 [==============================] - 4s 16ms/step - loss: 0.2310 - duration_loss: 0.0380 - pitch_loss: 3.5533 - step_loss: 0.0153\n",
      "Epoch 16/50\n",
      "240/240 [==============================] - 4s 16ms/step - loss: 0.2285 - duration_loss: 0.0370 - pitch_loss: 3.5282 - step_loss: 0.0151\n",
      "Epoch 17/50\n",
      "240/240 [==============================] - 4s 16ms/step - loss: 0.2298 - duration_loss: 0.0370 - pitch_loss: 3.5457 - step_loss: 0.0155\n",
      "Epoch 18/50\n",
      "240/240 [==============================] - 4s 16ms/step - loss: 0.2276 - duration_loss: 0.0358 - pitch_loss: 3.5344 - step_loss: 0.0151\n",
      "Epoch 19/50\n",
      "240/240 [==============================] - 4s 16ms/step - loss: 0.2275 - duration_loss: 0.0364 - pitch_loss: 3.5238 - step_loss: 0.0149\n",
      "Epoch 20/50\n",
      "240/240 [==============================] - 4s 16ms/step - loss: 0.2266 - duration_loss: 0.0362 - pitch_loss: 3.5121 - step_loss: 0.0148\n",
      "Epoch 21/50\n",
      "240/240 [==============================] - 4s 16ms/step - loss: 0.2255 - duration_loss: 0.0360 - pitch_loss: 3.4892 - step_loss: 0.0151\n",
      "Epoch 22/50\n",
      "240/240 [==============================] - 4s 16ms/step - loss: 0.2245 - duration_loss: 0.0363 - pitch_loss: 3.4750 - step_loss: 0.0145\n",
      "Epoch 23/50\n",
      "240/240 [==============================] - 4s 16ms/step - loss: 0.2222 - duration_loss: 0.0349 - pitch_loss: 3.4695 - step_loss: 0.0139\n",
      "Epoch 24/50\n",
      "240/240 [==============================] - 4s 16ms/step - loss: 0.2208 - duration_loss: 0.0339 - pitch_loss: 3.4665 - step_loss: 0.0136\n",
      "Epoch 25/50\n",
      "240/240 [==============================] - 4s 16ms/step - loss: 0.2213 - duration_loss: 0.0338 - pitch_loss: 3.4628 - step_loss: 0.0144\n",
      "Epoch 26/50\n",
      "240/240 [==============================] - 4s 17ms/step - loss: 0.2198 - duration_loss: 0.0338 - pitch_loss: 3.4454 - step_loss: 0.0137\n",
      "Epoch 27/50\n",
      "240/240 [==============================] - 4s 17ms/step - loss: 0.2170 - duration_loss: 0.0333 - pitch_loss: 3.4348 - step_loss: 0.0119\n",
      "Epoch 28/50\n",
      "240/240 [==============================] - 4s 16ms/step - loss: 0.2164 - duration_loss: 0.0323 - pitch_loss: 3.4352 - step_loss: 0.0124\n",
      "Epoch 29/50\n",
      "240/240 [==============================] - 4s 16ms/step - loss: 0.2183 - duration_loss: 0.0335 - pitch_loss: 3.4264 - step_loss: 0.0135\n",
      "Epoch 30/50\n",
      "240/240 [==============================] - 4s 16ms/step - loss: 0.2176 - duration_loss: 0.0328 - pitch_loss: 3.4208 - step_loss: 0.0138\n",
      "Epoch 31/50\n",
      "240/240 [==============================] - 4s 16ms/step - loss: 0.2143 - duration_loss: 0.0324 - pitch_loss: 3.4165 - step_loss: 0.0111\n",
      "Epoch 32/50\n",
      "240/240 [==============================] - 4s 16ms/step - loss: 0.2185 - duration_loss: 0.0344 - pitch_loss: 3.4149 - step_loss: 0.0134\n",
      "Epoch 33/50\n",
      "240/240 [==============================] - 4s 16ms/step - loss: 0.2112 - duration_loss: 0.0310 - pitch_loss: 3.3869 - step_loss: 0.0108\n",
      "Epoch 34/50\n",
      "240/240 [==============================] - 4s 16ms/step - loss: 0.2093 - duration_loss: 0.0308 - pitch_loss: 3.3761 - step_loss: 0.0097\n",
      "Epoch 35/50\n",
      "240/240 [==============================] - 4s 16ms/step - loss: 0.2105 - duration_loss: 0.0313 - pitch_loss: 3.3691 - step_loss: 0.0108\n",
      "Epoch 36/50\n",
      "240/240 [==============================] - 4s 16ms/step - loss: 0.2089 - duration_loss: 0.0306 - pitch_loss: 3.3752 - step_loss: 0.0095\n",
      "Epoch 37/50\n",
      "240/240 [==============================] - 4s 16ms/step - loss: 0.2051 - duration_loss: 0.0293 - pitch_loss: 3.3355 - step_loss: 0.0091\n",
      "Epoch 38/50\n",
      "240/240 [==============================] - 4s 16ms/step - loss: 0.2035 - duration_loss: 0.0289 - pitch_loss: 3.3190 - step_loss: 0.0086\n",
      "Epoch 39/50\n",
      "240/240 [==============================] - 4s 16ms/step - loss: 0.2051 - duration_loss: 0.0291 - pitch_loss: 3.3200 - step_loss: 0.0100\n",
      "Epoch 40/50\n",
      "240/240 [==============================] - 4s 16ms/step - loss: 0.2058 - duration_loss: 0.0297 - pitch_loss: 3.3123 - step_loss: 0.0105\n",
      "Epoch 41/50\n",
      "240/240 [==============================] - 4s 16ms/step - loss: 0.2140 - duration_loss: 0.0331 - pitch_loss: 3.3891 - step_loss: 0.0115\n",
      "Epoch 42/50\n",
      "240/240 [==============================] - 4s 17ms/step - loss: 0.2078 - duration_loss: 0.0294 - pitch_loss: 3.3379 - step_loss: 0.0115\n",
      "Epoch 43/50\n",
      "240/240 [==============================] - 4s 16ms/step - loss: 0.2030 - duration_loss: 0.0296 - pitch_loss: 3.2950 - step_loss: 0.0086\n",
      "Epoch 44/50\n",
      "240/240 [==============================] - 4s 17ms/step - loss: 0.1997 - duration_loss: 0.0274 - pitch_loss: 3.2641 - step_loss: 0.0090\n",
      "Epoch 45/50\n",
      "240/240 [==============================] - 5s 21ms/step - loss: 0.1994 - duration_loss: 0.0279 - pitch_loss: 3.2617 - step_loss: 0.0083\n",
      "Epoch 46/50\n",
      "240/240 [==============================] - 4s 17ms/step - loss: 0.1967 - duration_loss: 0.0262 - pitch_loss: 3.2393 - step_loss: 0.0085\n",
      "Epoch 47/50\n",
      "240/240 [==============================] - 4s 16ms/step - loss: 0.1951 - duration_loss: 0.0256 - pitch_loss: 3.2260 - step_loss: 0.0082\n",
      "Epoch 48/50\n",
      "240/240 [==============================] - 4s 17ms/step - loss: 0.1944 - duration_loss: 0.0253 - pitch_loss: 3.2101 - step_loss: 0.0086\n",
      "Epoch 49/50\n",
      "240/240 [==============================] - 4s 17ms/step - loss: 0.1958 - duration_loss: 0.0258 - pitch_loss: 3.2272 - step_loss: 0.0087\n",
      "Epoch 50/50\n",
      "240/240 [==============================] - 4s 16ms/step - loss: 0.1933 - duration_loss: 0.0254 - pitch_loss: 3.1884 - step_loss: 0.0084\n"
     ]
    }
   ],
   "source": [
    "# Compiling and fitting the model\n",
    "\n",
    "model.compile(loss = loss, \n",
    "              loss_weights = {'pitch': 0.05, 'step': 1.0, 'duration':1.0,},\n",
    "              optimizer = optimizer)\n",
    "\n",
    "epochs = 50\n",
    "\n",
    "history = model.fit(train_ds, \n",
    "                    epochs=epochs, \n",
    "                    callbacks=callbacks,)"
   ]
  },
  {
   "cell_type": "code",
   "execution_count": 39,
   "metadata": {},
   "outputs": [
    {
     "data": {
      "text/plain": [
       "[<matplotlib.lines.Line2D at 0x280899e50>]"
      ]
     },
     "execution_count": 39,
     "metadata": {},
     "output_type": "execute_result"
    },
    {
     "data": {
      "image/png": "[encoded data removed]",
      "text/plain": [
       "<Figure size 432x288 with 1 Axes>"
      ]
     },
     "metadata": {},
     "output_type": "display_data"
    }
   ],
   "source": [
    "# evaluate the result through plot\n",
    "plt.plot(history.history['loss'])"
   ]
  },
  {
   "cell_type": "markdown",
   "metadata": {},
   "source": [
    "## Generating the notes\n",
    "\n",
    "> Finally, we can use the trained model for generating the desired musical notes. For starting the iteration of the generation process, we will need to provide a starting sequence of notes upon which the LSTM model can continue to create building blocks and reconstruct more data elements. To create more randomness and avoid the model from picking only the best notes as it will lead to repetitive results, we can make use of the temperature parameter for random note generation. The below code snippet demonstrates the process of obtaining all the required results that we discussed in this section."
   ]
  },
  {
   "cell_type": "code",
   "execution_count": 40,
   "metadata": {},
   "outputs": [],
   "source": [
    "def predict_next_note(notes: np.ndarray, keras_model: tf.keras.Model, \n",
    "                      temperature: float = 1.0) -> int:\n",
    "    \"\"\"Generates a note IDs using a trained sequence model.\"\"\"\n",
    "\n",
    "    assert temperature > 0\n",
    "\n",
    "    # Add batch dimension\n",
    "    inputs = tf.expand_dims(notes, 0)\n",
    "\n",
    "    # Extract output \n",
    "    predictions = model.predict(inputs)\n",
    "    pitch_logits = predictions['pitch']\n",
    "    step = predictions['step']\n",
    "    duration = predictions['duration']\n",
    "\n",
    "    # Apply randomness to the pitch \n",
    "    pitch_logits /= temperature\n",
    "    pitch = tf.random.categorical(pitch_logits, num_samples=1) # sample from random distribution \n",
    "\n",
    "    # Format output \n",
    "    pitch = tf.squeeze(pitch, axis=-1)\n",
    "    duration = tf.squeeze(duration, axis=-1)\n",
    "    step = tf.squeeze(step, axis=-1)\n",
    "\n",
    "    # `step` and `duration` values should be non-negative\n",
    "    step = tf.maximum(0, step)\n",
    "    duration = tf.maximum(0, duration)\n",
    "\n",
    "    return int(pitch), float(step), float(duration)"
   ]
  },
  {
   "cell_type": "markdown",
   "metadata": {},
   "source": [
    "> With different temperature variables and different starting sequences, we can start generating our music accordingly. The procedure for this process is demonstrated in the code block below. We make use of a random starting sequence with a random temperature value using which the LSTM model can continue to build upon. As soon as we are able to interpret the next sequence and have the required pitch, step, and duration values, we can store them in a cumulative list of generation outputs. Then, we can proceed to delete the previously used starting sequence and make use of the next preceding one to make the next prediction and store it as well. This step can be continued for a range until we have a decent tone of music generated for the desired amount of time."
   ]
  },
  {
   "cell_type": "code",
   "execution_count": 41,
   "metadata": {},
   "outputs": [
    {
     "name": "stderr",
     "output_type": "stream",
     "text": [
      "2022-08-02 23:39:46.774220: I tensorflow/core/grappler/optimizers/custom_graph_optimizer_registry.cc:113] Plugin optimizer for device_type GPU is enabled.\n",
      "2022-08-02 23:39:46.887893: I tensorflow/core/grappler/optimizers/custom_graph_optimizer_registry.cc:113] Plugin optimizer for device_type GPU is enabled.\n"
     ]
    },
    {
     "name": "stdout",
     "output_type": "stream",
     "text": [
      "1/1 [==============================] - 2s 2s/step\n",
      "1/1 [==============================] - 0s 19ms/step\n",
      "1/1 [==============================] - 0s 16ms/step\n",
      "1/1 [==============================] - 0s 17ms/step\n",
      "1/1 [==============================] - 0s 16ms/step\n",
      "1/1 [==============================] - 0s 16ms/step\n",
      "1/1 [==============================] - 0s 19ms/step\n",
      "1/1 [==============================] - 0s 17ms/step\n",
      "1/1 [==============================] - 0s 18ms/step\n",
      "1/1 [==============================] - 0s 16ms/step\n",
      "1/1 [==============================] - 0s 17ms/step\n",
      "1/1 [==============================] - 0s 17ms/step\n",
      "1/1 [==============================] - 0s 16ms/step\n",
      "1/1 [==============================] - 0s 17ms/step\n",
      "1/1 [==============================] - 0s 16ms/step\n",
      "1/1 [==============================] - 0s 16ms/step\n",
      "1/1 [==============================] - 0s 17ms/step\n",
      "1/1 [==============================] - 0s 17ms/step\n",
      "1/1 [==============================] - 0s 16ms/step\n",
      "1/1 [==============================] - 0s 14ms/step\n",
      "1/1 [==============================] - 0s 15ms/step\n",
      "1/1 [==============================] - 0s 15ms/step\n",
      "1/1 [==============================] - 0s 27ms/step\n",
      "1/1 [==============================] - 0s 17ms/step\n",
      "1/1 [==============================] - 0s 16ms/step\n",
      "1/1 [==============================] - 0s 17ms/step\n",
      "1/1 [==============================] - 0s 16ms/step\n",
      "1/1 [==============================] - 0s 16ms/step\n",
      "1/1 [==============================] - 0s 16ms/step\n",
      "1/1 [==============================] - 0s 18ms/step\n",
      "1/1 [==============================] - 0s 19ms/step\n",
      "1/1 [==============================] - 0s 16ms/step\n",
      "1/1 [==============================] - 0s 16ms/step\n",
      "1/1 [==============================] - 0s 15ms/step\n",
      "1/1 [==============================] - 0s 16ms/step\n",
      "1/1 [==============================] - 0s 15ms/step\n",
      "1/1 [==============================] - 0s 22ms/step\n",
      "1/1 [==============================] - 0s 19ms/step\n",
      "1/1 [==============================] - 0s 16ms/step\n",
      "1/1 [==============================] - 0s 16ms/step\n",
      "1/1 [==============================] - 0s 16ms/step\n",
      "1/1 [==============================] - 0s 16ms/step\n",
      "1/1 [==============================] - 0s 15ms/step\n",
      "1/1 [==============================] - 0s 15ms/step\n",
      "1/1 [==============================] - 0s 15ms/step\n",
      "1/1 [==============================] - 0s 17ms/step\n",
      "1/1 [==============================] - 0s 15ms/step\n",
      "1/1 [==============================] - 0s 20ms/step\n",
      "1/1 [==============================] - 0s 17ms/step\n",
      "1/1 [==============================] - 0s 15ms/step\n",
      "1/1 [==============================] - 0s 16ms/step\n",
      "1/1 [==============================] - 0s 15ms/step\n",
      "1/1 [==============================] - 0s 14ms/step\n",
      "1/1 [==============================] - 0s 22ms/step\n",
      "1/1 [==============================] - 0s 14ms/step\n",
      "1/1 [==============================] - 0s 14ms/step\n",
      "1/1 [==============================] - 0s 16ms/step\n",
      "1/1 [==============================] - 0s 15ms/step\n",
      "1/1 [==============================] - 0s 14ms/step\n",
      "1/1 [==============================] - 0s 15ms/step\n",
      "1/1 [==============================] - 0s 15ms/step\n",
      "1/1 [==============================] - 0s 21ms/step\n",
      "1/1 [==============================] - 0s 17ms/step\n",
      "1/1 [==============================] - 0s 16ms/step\n",
      "1/1 [==============================] - 0s 18ms/step\n",
      "1/1 [==============================] - 0s 17ms/step\n",
      "1/1 [==============================] - 0s 16ms/step\n",
      "1/1 [==============================] - 0s 19ms/step\n",
      "1/1 [==============================] - 0s 16ms/step\n",
      "1/1 [==============================] - 0s 16ms/step\n",
      "1/1 [==============================] - 0s 15ms/step\n",
      "1/1 [==============================] - 0s 15ms/step\n",
      "1/1 [==============================] - 0s 16ms/step\n",
      "1/1 [==============================] - 0s 18ms/step\n",
      "1/1 [==============================] - 0s 15ms/step\n",
      "1/1 [==============================] - 0s 18ms/step\n",
      "1/1 [==============================] - 0s 16ms/step\n",
      "1/1 [==============================] - 0s 16ms/step\n",
      "1/1 [==============================] - 0s 15ms/step\n",
      "1/1 [==============================] - 0s 16ms/step\n",
      "1/1 [==============================] - 0s 15ms/step\n",
      "1/1 [==============================] - 0s 15ms/step\n",
      "1/1 [==============================] - 0s 15ms/step\n",
      "1/1 [==============================] - 0s 15ms/step\n",
      "1/1 [==============================] - 0s 15ms/step\n",
      "1/1 [==============================] - 0s 15ms/step\n",
      "1/1 [==============================] - 0s 15ms/step\n",
      "1/1 [==============================] - 0s 15ms/step\n",
      "1/1 [==============================] - 0s 17ms/step\n",
      "1/1 [==============================] - 0s 17ms/step\n",
      "1/1 [==============================] - 0s 17ms/step\n",
      "1/1 [==============================] - 0s 21ms/step\n",
      "1/1 [==============================] - 0s 18ms/step\n",
      "1/1 [==============================] - 0s 16ms/step\n",
      "1/1 [==============================] - 0s 17ms/step\n",
      "1/1 [==============================] - 0s 17ms/step\n",
      "1/1 [==============================] - 0s 17ms/step\n",
      "1/1 [==============================] - 0s 16ms/step\n",
      "1/1 [==============================] - 0s 17ms/step\n",
      "1/1 [==============================] - 0s 23ms/step\n",
      "1/1 [==============================] - 0s 16ms/step\n",
      "1/1 [==============================] - 0s 17ms/step\n",
      "1/1 [==============================] - 0s 16ms/step\n",
      "1/1 [==============================] - 0s 17ms/step\n",
      "1/1 [==============================] - 0s 16ms/step\n",
      "1/1 [==============================] - 0s 15ms/step\n",
      "1/1 [==============================] - 0s 15ms/step\n",
      "1/1 [==============================] - 0s 15ms/step\n",
      "1/1 [==============================] - 0s 16ms/step\n",
      "1/1 [==============================] - 0s 15ms/step\n",
      "1/1 [==============================] - 0s 15ms/step\n",
      "1/1 [==============================] - 0s 15ms/step\n",
      "1/1 [==============================] - 0s 17ms/step\n",
      "1/1 [==============================] - 0s 15ms/step\n",
      "1/1 [==============================] - 0s 16ms/step\n",
      "1/1 [==============================] - 0s 15ms/step\n",
      "1/1 [==============================] - 0s 14ms/step\n",
      "1/1 [==============================] - 0s 15ms/step\n",
      "1/1 [==============================] - 0s 15ms/step\n",
      "1/1 [==============================] - 0s 15ms/step\n"
     ]
    },
    {
     "data": {
      "text/html": [
       "<div>\n",
       "<style scoped>\n",
       "    .dataframe tbody tr th:only-of-type {\n",
       "        vertical-align: middle;\n",
       "    }\n",
       "\n",
       "    .dataframe tbody tr th {\n",
       "        vertical-align: top;\n",
       "    }\n",
       "\n",
       "    .dataframe thead th {\n",
       "        text-align: right;\n",
       "    }\n",
       "</style>\n",
       "<table border=\"1\" class=\"dataframe\">\n",
       "  <thead>\n",
       "    <tr style=\"text-align: right;\">\n",
       "      <th></th>\n",
       "      <th>pitch</th>\n",
       "      <th>step</th>\n",
       "      <th>duration</th>\n",
       "      <th>start</th>\n",
       "      <th>end</th>\n",
       "    </tr>\n",
       "  </thead>\n",
       "  <tbody>\n",
       "    <tr>\n",
       "      <th>0</th>\n",
       "      <td>71</td>\n",
       "      <td>0.074864</td>\n",
       "      <td>0.139150</td>\n",
       "      <td>0.074864</td>\n",
       "      <td>0.214013</td>\n",
       "    </tr>\n",
       "    <tr>\n",
       "      <th>1</th>\n",
       "      <td>63</td>\n",
       "      <td>0.304051</td>\n",
       "      <td>0.053217</td>\n",
       "      <td>0.378915</td>\n",
       "      <td>0.432132</td>\n",
       "    </tr>\n",
       "    <tr>\n",
       "      <th>2</th>\n",
       "      <td>98</td>\n",
       "      <td>0.291397</td>\n",
       "      <td>0.026557</td>\n",
       "      <td>0.670312</td>\n",
       "      <td>0.696869</td>\n",
       "    </tr>\n",
       "    <tr>\n",
       "      <th>3</th>\n",
       "      <td>100</td>\n",
       "      <td>0.286738</td>\n",
       "      <td>0.015521</td>\n",
       "      <td>0.957050</td>\n",
       "      <td>0.972571</td>\n",
       "    </tr>\n",
       "    <tr>\n",
       "      <th>4</th>\n",
       "      <td>98</td>\n",
       "      <td>0.293955</td>\n",
       "      <td>0.010235</td>\n",
       "      <td>1.251005</td>\n",
       "      <td>1.261240</td>\n",
       "    </tr>\n",
       "    <tr>\n",
       "      <th>5</th>\n",
       "      <td>98</td>\n",
       "      <td>0.285015</td>\n",
       "      <td>0.000000</td>\n",
       "      <td>1.536020</td>\n",
       "      <td>1.536020</td>\n",
       "    </tr>\n",
       "    <tr>\n",
       "      <th>6</th>\n",
       "      <td>27</td>\n",
       "      <td>0.298652</td>\n",
       "      <td>0.000000</td>\n",
       "      <td>1.834672</td>\n",
       "      <td>1.834672</td>\n",
       "    </tr>\n",
       "    <tr>\n",
       "      <th>7</th>\n",
       "      <td>91</td>\n",
       "      <td>0.259956</td>\n",
       "      <td>0.000000</td>\n",
       "      <td>2.094628</td>\n",
       "      <td>2.094628</td>\n",
       "    </tr>\n",
       "    <tr>\n",
       "      <th>8</th>\n",
       "      <td>89</td>\n",
       "      <td>0.274855</td>\n",
       "      <td>0.000000</td>\n",
       "      <td>2.369483</td>\n",
       "      <td>2.369483</td>\n",
       "    </tr>\n",
       "    <tr>\n",
       "      <th>9</th>\n",
       "      <td>78</td>\n",
       "      <td>0.254901</td>\n",
       "      <td>0.000000</td>\n",
       "      <td>2.624384</td>\n",
       "      <td>2.624384</td>\n",
       "    </tr>\n",
       "  </tbody>\n",
       "</table>\n",
       "</div>"
      ],
      "text/plain": [
       "   pitch      step  duration     start       end\n",
       "0     71  0.074864  0.139150  0.074864  0.214013\n",
       "1     63  0.304051  0.053217  0.378915  0.432132\n",
       "2     98  0.291397  0.026557  0.670312  0.696869\n",
       "3    100  0.286738  0.015521  0.957050  0.972571\n",
       "4     98  0.293955  0.010235  1.251005  1.261240\n",
       "5     98  0.285015  0.000000  1.536020  1.536020\n",
       "6     27  0.298652  0.000000  1.834672  1.834672\n",
       "7     91  0.259956  0.000000  2.094628  2.094628\n",
       "8     89  0.274855  0.000000  2.369483  2.369483\n",
       "9     78  0.254901  0.000000  2.624384  2.624384"
      ]
     },
     "execution_count": 41,
     "metadata": {},
     "output_type": "execute_result"
    }
   ],
   "source": [
    "temperature = 2.0\n",
    "num_predictions = 120\n",
    "\n",
    "sample_notes = np.stack([raw_notes[key] for key in key_order], axis=1)\n",
    "\n",
    "# The initial sequence of notes while the pitch is normalized similar to training sequences\n",
    "input_notes = (\n",
    "    sample_notes[:seq_length] / np.array([vocab_size, 1, 1]))\n",
    "\n",
    "generated_notes = []\n",
    "prev_start = 0\n",
    "\n",
    "for _ in range(num_predictions):\n",
    "    pitch, step, duration = predict_next_note(input_notes, model, temperature)\n",
    "    start = prev_start + step\n",
    "    end = start + duration\n",
    "    input_note = (pitch, step, duration)\n",
    "    generated_notes.append((*input_note, start, end))\n",
    "    input_notes = np.delete(input_notes, 0, axis=0)\n",
    "    input_notes = np.append(input_notes, np.expand_dims(input_note, 0), axis=0)\n",
    "    prev_start = start\n",
    "\n",
    "generated_notes = pd.DataFrame(\n",
    "    generated_notes, columns=(*key_order, 'start', 'end'))\n",
    "\n",
    "generated_notes.head(10)"
   ]
  },
  {
   "cell_type": "code",
   "execution_count": 42,
   "metadata": {},
   "outputs": [],
   "source": [
    "# Save the notes to midi file\n",
    "out_file = 'output.midi'\n",
    "out_pm = notes_to_midi(\n",
    "    generated_notes, out_file=out_file, instrument_name=instrument_name)"
   ]
  }
 ],
 "metadata": {
  "kernelspec": {
   "display_name": "Python 3.9.10 ('py39')",
   "language": "python",
   "name": "python3"
  },
  "language_info": {
   "codemirror_mode": {
    "name": "ipython",
    "version": 3
   },
   "file_extension": ".py",
   "mimetype": "text/x-python",
   "name": "python",
   "nbconvert_exporter": "python",
   "pygments_lexer": "ipython3",
   "version": "3.9.10"
  },
  "orig_nbformat": 4,
  "vscode": {
   "interpreter": {
    "hash": "0ee9abc2f8ed4c2bec59380a88532f6c4409e3142704504d9be0d180fda6aa0f"
   }
  }
 },
 "nbformat": 4,
 "nbformat_minor": 2
}
