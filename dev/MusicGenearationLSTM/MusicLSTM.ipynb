{
 "cells": [
  {
   "cell_type": "code",
   "execution_count": 2,
   "metadata": {},
   "outputs": [],
   "source": [
    "# Import libraries \n",
    "import tensorflow as tf\n",
    "from tensorflow.keras.layers import Input, LSTM, Dense\n",
    "from tensorflow.keras.models import Model\n",
    "from tensorflow.keras.losses import SparseCategoricalCrossentropy\n",
    "from tensorflow.keras.optimizers import Adam\n",
    "\n",
    "from typing import Dict, List, Optional, Sequence, Tuple\n",
    "import collections\n",
    "import datetime\n",
    "import glob\n",
    "import numpy as np\n",
    "import pathlib\n",
    "import pandas as pd\n",
    "import pretty_midi\n",
    "\n",
    "from IPython import display\n",
    "import matplotlib.pyplot as plt\n",
    "import seaborn as sns"
   ]
  },
  {
   "cell_type": "markdown",
   "metadata": {},
   "source": [
    "# data cleaning and preparation "
   ]
  },
  {
   "cell_type": "code",
   "execution_count": 3,
   "metadata": {},
   "outputs": [],
   "source": [
    "# Creating the required variables \n",
    "seed = 42\n",
    "tf.random.set_seed(seed)\n",
    "np.random.seed(seed)\n",
    "\n",
    "# Sampling rate for audio playback \n",
    "_SAMPLING_RATE = 16000"
   ]
  },
  {
   "cell_type": "code",
   "execution_count": 8,
   "metadata": {},
   "outputs": [
    {
     "name": "stdout",
     "output_type": "stream",
     "text": [
      "Number of files:  1282\n"
     ]
    }
   ],
   "source": [
    "# Setting the path \n",
    "data_fp = pathlib.Path(\"../../asset/maestro-v2.0.0/\") # root data folder \n",
    "filenames = glob.glob(str(data_fp/\"**/*.mid*\")) # find all the midi files in the root folder\n",
    "print(\"Number of files: \", len(filenames))"
   ]
  },
  {
   "cell_type": "code",
   "execution_count": 11,
   "metadata": {},
   "outputs": [
    {
     "name": "stdout",
     "output_type": "stream",
     "text": [
      "../../asset/maestro-v2.0.0/2013/ORIG-MIDI_03_7_6_13_Group__MID--AUDIO_09_R1_2013_wav--2.midi\n",
      "Number of instruments:  1\n",
      "Instrument name:  Acoustic Grand Piano\n"
     ]
    }
   ],
   "source": [
    "# Test with a sample file \n",
    "sample_file = filenames[1]\n",
    "print(sample_file)\n",
    "\n",
    "pm = pretty_midi.PrettyMIDI(sample_file)\n",
    "\n",
    "print(\"Number of instruments: \", len(pm.instruments))\n",
    "instrument = pm.instruments[0]\n",
    "instrument_name = pretty_midi.program_to_instrument_name(instrument.program)\n",
    "print(\"Instrument name: \", instrument_name)"
   ]
  },
  {
   "cell_type": "code",
   "execution_count": 12,
   "metadata": {},
   "outputs": [
    {
     "name": "stdout",
     "output_type": "stream",
     "text": [
      "0: pitch=75, note_name=D#5, duration=0.0677\n",
      "1: pitch=63, note_name=D#4, duration=0.0781\n",
      "2: pitch=75, note_name=D#5, duration=0.0443\n",
      "3: pitch=63, note_name=D#4, duration=0.0469\n",
      "4: pitch=75, note_name=D#5, duration=0.0417\n",
      "5: pitch=63, note_name=D#4, duration=0.0469\n",
      "6: pitch=87, note_name=D#6, duration=0.0443\n",
      "7: pitch=99, note_name=D#7, duration=0.0690\n",
      "8: pitch=87, note_name=D#6, duration=0.0378\n",
      "9: pitch=99, note_name=D#7, duration=0.0742\n"
     ]
    }
   ],
   "source": [
    "# Extract the notes \n",
    "for index, note in enumerate(instrument.notes[:10]): # look at the first 10 notes \n",
    "    note_name = pretty_midi.note_number_to_name(note.pitch)\n",
    "    duration = note.end - note.start\n",
    "    print(f\"{index}: pitch={note.pitch}, note_name={note_name}, duration={duration:.4f}\")"
   ]
  },
  {
   "cell_type": "markdown",
   "metadata": {},
   "source": [
    "`pitch`: the perceptual quality of sound, determined by recognized by the MIDI note numbers. <br>\n",
    "`step variable (index?)`: represents the time elapsed from the previous note or start of the track. <br>\n",
    "`duration`: difference between the start time and end time of a note. <br>"
   ]
  },
  {
   "cell_type": "code",
   "execution_count": null,
   "metadata": {},
   "outputs": [],
   "source": []
  }
 ],
 "metadata": {
  "kernelspec": {
   "display_name": "Python 3.9.10 ('py39')",
   "language": "python",
   "name": "python3"
  },
  "language_info": {
   "codemirror_mode": {
    "name": "ipython",
    "version": 3
   },
   "file_extension": ".py",
   "mimetype": "text/x-python",
   "name": "python",
   "nbconvert_exporter": "python",
   "pygments_lexer": "ipython3",
   "version": "3.9.10"
  },
  "orig_nbformat": 4,
  "vscode": {
   "interpreter": {
    "hash": "0ee9abc2f8ed4c2bec59380a88532f6c4409e3142704504d9be0d180fda6aa0f"
   }
  }
 },
 "nbformat": 4,
 "nbformat_minor": 2
}
